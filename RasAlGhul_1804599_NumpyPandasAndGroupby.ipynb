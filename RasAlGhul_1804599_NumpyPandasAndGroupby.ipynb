{
 "cells": [
  {
   "cell_type": "code",
   "execution_count": 34,
   "metadata": {},
   "outputs": [],
   "source": [
    "import numpy as np\n",
    "import pandas as pd"
   ]
  },
  {
   "cell_type": "markdown",
   "metadata": {},
   "source": [
    "# PART A"
   ]
  },
  {
   "cell_type": "markdown",
   "metadata": {},
   "source": [
    "Q1."
   ]
  },
  {
   "cell_type": "code",
   "execution_count": 35,
   "metadata": {},
   "outputs": [],
   "source": [
    "df = pd.DataFrame({'A': ['group1', 'group1', 'group2', 'group1','group2', 'group1', 'group2', 'group2','group2','group1'], \n",
    "                   'B': ['true', 'true', 'true', 'false', 'false', 'false', 'false', 'true','false','true']})"
   ]
  },
  {
   "cell_type": "code",
   "execution_count": 36,
   "metadata": {},
   "outputs": [
    {
     "data": {
      "text/plain": [
       "A       B    \n",
       "group1  true     3\n",
       "        false    2\n",
       "group2  false    3\n",
       "        true     2\n",
       "Name: B, dtype: int64"
      ]
     },
     "execution_count": 36,
     "metadata": {},
     "output_type": "execute_result"
    }
   ],
   "source": [
    "p=df['B'].groupby(df['A'])\n",
    "list(p)\n",
    "p.value_counts()"
   ]
  },
  {
   "cell_type": "markdown",
   "metadata": {},
   "source": [
    "ans: group1 has more true values than false values"
   ]
  },
  {
   "cell_type": "markdown",
   "metadata": {},
   "source": [
    "Q2"
   ]
  },
  {
   "cell_type": "code",
   "execution_count": 37,
   "metadata": {},
   "outputs": [],
   "source": [
    "ser1 = pd.Series([1, 2, 3, 4, 5]) \n",
    "ser2 = pd.Series([4, 5, 6, 7, 8])\n",
    "set1=set(ser1)\n",
    "set2=set(ser2)\n"
   ]
  },
  {
   "cell_type": "code",
   "execution_count": 38,
   "metadata": {},
   "outputs": [
    {
     "name": "stdout",
     "output_type": "stream",
     "text": [
      "uncommon items are:{1, 2, 3, 6, 7, 8}\n"
     ]
    }
   ],
   "source": [
    "def find_uncommon_items(set1,set2):\n",
    "  if(set1 ^ set2):\n",
    "    print('uncommon items are:'+str(set1 ^ set2))\n",
    "  else:\n",
    "    print('common items')\n",
    "\n",
    "find_uncommon_items(set1,set2)"
   ]
  },
  {
   "cell_type": "code",
   "execution_count": 39,
   "metadata": {},
   "outputs": [
    {
     "name": "stdout",
     "output_type": "stream",
     "text": [
      "common items are:{4, 5}\n"
     ]
    }
   ],
   "source": [
    "def common_items(set1,set2):\n",
    "  if(set1 & set2):\n",
    "    print('common items are:'+str(set1 & set2))\n",
    "  else:\n",
    "    print('no common items')\n",
    "common_items(set1,set2)"
   ]
  },
  {
   "cell_type": "markdown",
   "metadata": {},
   "source": [
    "Q3."
   ]
  },
  {
   "cell_type": "code",
   "execution_count": 40,
   "metadata": {
    "scrolled": true
   },
   "outputs": [
    {
     "name": "stdout",
     "output_type": "stream",
     "text": [
      "the position of multiples of 3: 1\n",
      "the position of multiples of 3: 2\n",
      "the position of multiples of 3: 4\n",
      "the position of multiples of 3: 5\n",
      "the position of multiples of 3: 6\n",
      "[nan, 2.0, 3.0, 4.0, 5.0, 6.0, 6.0, 8.0]\n"
     ]
    }
   ],
   "source": [
    "items =[1, 3, 6, 10, 15, 21, 27, 35]\n",
    "p=pd.Series(items)\n",
    "for i in range(0,8):\n",
    "  if p[i]%3==0:\n",
    "    print('the position of multiples of 3:',i)\n",
    "    \n",
    "print(p.diff().tolist())"
   ]
  },
  {
   "cell_type": "markdown",
   "metadata": {},
   "source": [
    "# ------------------------------------------------------------------------------------------------------------"
   ]
  },
  {
   "cell_type": "markdown",
   "metadata": {},
   "source": [
    "# PART B"
   ]
  },
  {
   "cell_type": "code",
   "execution_count": 41,
   "metadata": {},
   "outputs": [
    {
     "data": {
      "text/html": [
       "<div>\n",
       "<style scoped>\n",
       "    .dataframe tbody tr th:only-of-type {\n",
       "        vertical-align: middle;\n",
       "    }\n",
       "\n",
       "    .dataframe tbody tr th {\n",
       "        vertical-align: top;\n",
       "    }\n",
       "\n",
       "    .dataframe thead th {\n",
       "        text-align: right;\n",
       "    }\n",
       "</style>\n",
       "<table border=\"1\" class=\"dataframe\">\n",
       "  <thead>\n",
       "    <tr style=\"text-align: right;\">\n",
       "      <th></th>\n",
       "      <th>Unnamed: 0</th>\n",
       "      <th>Unnamed: 0.1</th>\n",
       "      <th>school_state</th>\n",
       "      <th>teacher_prefix</th>\n",
       "      <th>project_grade_category</th>\n",
       "      <th>teacher_number_of_previously_posted_projects</th>\n",
       "      <th>project_is_approved</th>\n",
       "      <th>project_subject_categories</th>\n",
       "      <th>project_subject_subcategories</th>\n",
       "      <th>price</th>\n",
       "      <th>quantity</th>\n",
       "    </tr>\n",
       "  </thead>\n",
       "  <tbody>\n",
       "    <tr>\n",
       "      <td>0</td>\n",
       "      <td>0</td>\n",
       "      <td>0</td>\n",
       "      <td>in</td>\n",
       "      <td>mrs</td>\n",
       "      <td>grades_prek_2</td>\n",
       "      <td>0</td>\n",
       "      <td>0</td>\n",
       "      <td>literacy_language</td>\n",
       "      <td>esl_literacy</td>\n",
       "      <td>154.60</td>\n",
       "      <td>23</td>\n",
       "    </tr>\n",
       "    <tr>\n",
       "      <td>1</td>\n",
       "      <td>1</td>\n",
       "      <td>1</td>\n",
       "      <td>fl</td>\n",
       "      <td>mr</td>\n",
       "      <td>grades_6_8</td>\n",
       "      <td>7</td>\n",
       "      <td>1</td>\n",
       "      <td>history_civics_health_sports</td>\n",
       "      <td>civics_government_teamsports</td>\n",
       "      <td>299.00</td>\n",
       "      <td>1</td>\n",
       "    </tr>\n",
       "    <tr>\n",
       "      <td>2</td>\n",
       "      <td>2</td>\n",
       "      <td>2</td>\n",
       "      <td>az</td>\n",
       "      <td>ms</td>\n",
       "      <td>grades_6_8</td>\n",
       "      <td>1</td>\n",
       "      <td>0</td>\n",
       "      <td>health_sports</td>\n",
       "      <td>health_wellness_teamsports</td>\n",
       "      <td>516.85</td>\n",
       "      <td>22</td>\n",
       "    </tr>\n",
       "    <tr>\n",
       "      <td>3</td>\n",
       "      <td>3</td>\n",
       "      <td>3</td>\n",
       "      <td>ky</td>\n",
       "      <td>mrs</td>\n",
       "      <td>grades_prek_2</td>\n",
       "      <td>4</td>\n",
       "      <td>1</td>\n",
       "      <td>literacy_language_math_science</td>\n",
       "      <td>literacy_mathematics</td>\n",
       "      <td>232.90</td>\n",
       "      <td>4</td>\n",
       "    </tr>\n",
       "    <tr>\n",
       "      <td>4</td>\n",
       "      <td>4</td>\n",
       "      <td>4</td>\n",
       "      <td>tx</td>\n",
       "      <td>mrs</td>\n",
       "      <td>grades_prek_2</td>\n",
       "      <td>1</td>\n",
       "      <td>1</td>\n",
       "      <td>math_science</td>\n",
       "      <td>mathematics</td>\n",
       "      <td>67.98</td>\n",
       "      <td>4</td>\n",
       "    </tr>\n",
       "  </tbody>\n",
       "</table>\n",
       "</div>"
      ],
      "text/plain": [
       "   Unnamed: 0  Unnamed: 0.1 school_state teacher_prefix  \\\n",
       "0           0             0           in            mrs   \n",
       "1           1             1           fl             mr   \n",
       "2           2             2           az             ms   \n",
       "3           3             3           ky            mrs   \n",
       "4           4             4           tx            mrs   \n",
       "\n",
       "  project_grade_category  teacher_number_of_previously_posted_projects  \\\n",
       "0          grades_prek_2                                             0   \n",
       "1             grades_6_8                                             7   \n",
       "2             grades_6_8                                             1   \n",
       "3          grades_prek_2                                             4   \n",
       "4          grades_prek_2                                             1   \n",
       "\n",
       "   project_is_approved      project_subject_categories  \\\n",
       "0                    0               literacy_language   \n",
       "1                    1    history_civics_health_sports   \n",
       "2                    0                   health_sports   \n",
       "3                    1  literacy_language_math_science   \n",
       "4                    1                    math_science   \n",
       "\n",
       "  project_subject_subcategories   price  quantity  \n",
       "0                  esl_literacy  154.60        23  \n",
       "1  civics_government_teamsports  299.00         1  \n",
       "2    health_wellness_teamsports  516.85        22  \n",
       "3          literacy_mathematics  232.90         4  \n",
       "4                   mathematics   67.98         4  "
      ]
     },
     "execution_count": 41,
     "metadata": {},
     "output_type": "execute_result"
    }
   ],
   "source": [
    "df = pd.read_csv(r\"C:\\Users\\KIIT\\HRC Task\\Assignments\\GroupBy Assignment\\Grouby_Assignment_Data.csv\")\n",
    "df.head(5)"
   ]
  },
  {
   "cell_type": "markdown",
   "metadata": {},
   "source": [
    "Q1."
   ]
  },
  {
   "cell_type": "code",
   "execution_count": 42,
   "metadata": {},
   "outputs": [
    {
     "data": {
      "text/plain": [
       "school_state\n",
       "ak    337.510667\n",
       "al    298.641397\n",
       "ar    278.166613\n",
       "az    252.355673\n",
       "ca    323.282639\n",
       "co    252.666940\n",
       "ct    311.030415\n",
       "dc    360.152267\n",
       "de    234.136735\n",
       "fl    297.499525\n",
       "ga    308.207945\n",
       "hi    365.838639\n",
       "ia    284.773153\n",
       "id    253.708874\n",
       "il    284.538685\n",
       "in    249.736221\n",
       "ks    246.894763\n",
       "ky    280.020031\n",
       "la    358.954185\n",
       "ma    328.623520\n",
       "md    303.952794\n",
       "me    274.640000\n",
       "mi    299.793970\n",
       "mn    249.289851\n",
       "mo    276.094635\n",
       "ms    306.512922\n",
       "mt    278.000490\n",
       "nc    254.037568\n",
       "nd    256.985035\n",
       "ne    286.515307\n",
       "nh    330.994425\n",
       "nj    336.891618\n",
       "nm    297.836876\n",
       "nv    283.005000\n",
       "ny    335.973861\n",
       "oh    271.301090\n",
       "ok    264.163071\n",
       "or    289.779098\n",
       "pa    279.585613\n",
       "ri    296.904035\n",
       "sc    247.343586\n",
       "sd    249.673433\n",
       "tn    279.079419\n",
       "tx    304.977799\n",
       "ut    310.182139\n",
       "va    267.539311\n",
       "vt    289.467250\n",
       "wa    283.266018\n",
       "wi    301.433963\n",
       "wv    258.633121\n",
       "wy    307.638878\n",
       "Name: price, dtype: float64"
      ]
     },
     "execution_count": 42,
     "metadata": {},
     "output_type": "execute_result"
    }
   ],
   "source": [
    "df.groupby(\"school_state\")['price'].mean()"
   ]
  },
  {
   "cell_type": "markdown",
   "metadata": {},
   "source": [
    "Q2.a"
   ]
  },
  {
   "cell_type": "code",
   "execution_count": 43,
   "metadata": {
    "scrolled": true
   },
   "outputs": [
    {
     "data": {
      "text/plain": [
       "teacher_prefix\n",
       "dr            13\n",
       "mr         10645\n",
       "mrs        57264\n",
       "ms         38944\n",
       "teacher     2360\n",
       "Name: teacher_number_of_previously_posted_projects, dtype: int64"
      ]
     },
     "execution_count": 43,
     "metadata": {},
     "output_type": "execute_result"
    }
   ],
   "source": [
    "df.groupby(\"teacher_prefix\")['teacher_number_of_previously_posted_projects'].count()"
   ]
  },
  {
   "cell_type": "markdown",
   "metadata": {},
   "source": [
    "Q2.b"
   ]
  },
  {
   "cell_type": "code",
   "execution_count": 44,
   "metadata": {},
   "outputs": [
    {
     "name": "stdout",
     "output_type": "stream",
     "text": [
      "mrs\n"
     ]
    }
   ],
   "source": [
    "d=df.groupby(\"teacher_prefix\")['teacher_number_of_previously_posted_projects'].count()\n",
    "maxx=d[0]\n",
    "for i in range(1,len(d)):\n",
    "    if(d[i]>maxx):\n",
    "        maxx=d[i]\n",
    "        y=i\n",
    "print(d.index[y])"
   ]
  },
  {
   "cell_type": "markdown",
   "metadata": {},
   "source": [
    "Q3."
   ]
  },
  {
   "cell_type": "code",
   "execution_count": 45,
   "metadata": {
    "scrolled": true
   },
   "outputs": [
    {
     "data": {
      "text/plain": [
       "project_subject_categories\n",
       "appliedlearning                        384\n",
       "appliedlearning_health_sports           34\n",
       "appliedlearning_history_civics          57\n",
       "appliedlearning_literacy_language      191\n",
       "appliedlearning_math_science           142\n",
       "appliedlearning_music_arts             139\n",
       "appliedlearning_specialneeds            99\n",
       "appliedlearning_warmth_care_hunger       1\n",
       "health_sports                          940\n",
       "health_sports_appliedlearning            6\n",
       "health_sports_history_civics             7\n",
       "health_sports_literacy_language         10\n",
       "health_sports_math_science               8\n",
       "health_sports_music_arts                16\n",
       "health_sports_specialneeds              54\n",
       "health_sports_warmth_care_hunger         2\n",
       "history_civics                         449\n",
       "history_civics_appliedlearning           6\n",
       "history_civics_health_sports             6\n",
       "history_civics_literacy_language        92\n",
       "history_civics_math_science             16\n",
       "history_civics_music_arts               50\n",
       "history_civics_specialneeds             54\n",
       "literacy_language                     1769\n",
       "literacy_language_appliedlearning       19\n",
       "literacy_language_health_sports          8\n",
       "literacy_language_history_civics        50\n",
       "literacy_language_math_science          72\n",
       "literacy_language_music_arts           153\n",
       "literacy_language_specialneeds         220\n",
       "math_science                          1999\n",
       "math_science_appliedlearning           146\n",
       "math_science_health_sports              46\n",
       "math_science_history_civics             31\n",
       "math_science_literacy_language          71\n",
       "math_science_music_arts                139\n",
       "math_science_specialneeds              177\n",
       "math_science_warmth_care_hunger          1\n",
       "music_arts                             962\n",
       "music_arts_appliedlearning               1\n",
       "music_arts_health_sports                 4\n",
       "music_arts_history_civics                1\n",
       "music_arts_specialneeds                 16\n",
       "specialneeds                           309\n",
       "specialneeds_health_sports              16\n",
       "specialneeds_music_arts                 38\n",
       "specialneeds_warmth_care_hunger          4\n",
       "warmth_care_hunger                     166\n",
       "Name: project_is_approved, dtype: int64"
      ]
     },
     "execution_count": 45,
     "metadata": {},
     "output_type": "execute_result"
    }
   ],
   "source": [
    "grades_9_12_group=df.groupby(['project_grade_category']).get_group('grades_9_12')\n",
    "grades_9_12_group.groupby('project_subject_categories')['project_is_approved'].agg(np.sum)"
   ]
  },
  {
   "cell_type": "markdown",
   "metadata": {},
   "source": [
    "Q4."
   ]
  },
  {
   "cell_type": "code",
   "execution_count": 46,
   "metadata": {},
   "outputs": [
    {
     "data": {
      "text/html": [
       "<div>\n",
       "<style scoped>\n",
       "    .dataframe tbody tr th:only-of-type {\n",
       "        vertical-align: middle;\n",
       "    }\n",
       "\n",
       "    .dataframe tbody tr th {\n",
       "        vertical-align: top;\n",
       "    }\n",
       "\n",
       "    .dataframe thead th {\n",
       "        text-align: right;\n",
       "    }\n",
       "</style>\n",
       "<table border=\"1\" class=\"dataframe\">\n",
       "  <thead>\n",
       "    <tr style=\"text-align: right;\">\n",
       "      <th></th>\n",
       "      <th>Unnamed: 0</th>\n",
       "      <th>Unnamed: 0.1</th>\n",
       "      <th>school_state</th>\n",
       "      <th>teacher_prefix</th>\n",
       "      <th>project_grade_category</th>\n",
       "      <th>teacher_number_of_previously_posted_projects</th>\n",
       "      <th>project_is_approved</th>\n",
       "      <th>project_subject_categories</th>\n",
       "      <th>project_subject_subcategories</th>\n",
       "      <th>price</th>\n",
       "      <th>quantity</th>\n",
       "    </tr>\n",
       "  </thead>\n",
       "  <tbody>\n",
       "    <tr>\n",
       "      <td>0</td>\n",
       "      <td>0</td>\n",
       "      <td>0</td>\n",
       "      <td>in</td>\n",
       "      <td>0.855546</td>\n",
       "      <td>grades_prek_2</td>\n",
       "      <td>0</td>\n",
       "      <td>0</td>\n",
       "      <td>literacy_language</td>\n",
       "      <td>esl_literacy</td>\n",
       "      <td>154.60</td>\n",
       "      <td>23</td>\n",
       "    </tr>\n",
       "    <tr>\n",
       "      <td>1</td>\n",
       "      <td>1</td>\n",
       "      <td>1</td>\n",
       "      <td>fl</td>\n",
       "      <td>0.841522</td>\n",
       "      <td>grades_6_8</td>\n",
       "      <td>7</td>\n",
       "      <td>1</td>\n",
       "      <td>history_civics_health_sports</td>\n",
       "      <td>civics_government_teamsports</td>\n",
       "      <td>299.00</td>\n",
       "      <td>1</td>\n",
       "    </tr>\n",
       "    <tr>\n",
       "      <td>2</td>\n",
       "      <td>2</td>\n",
       "      <td>2</td>\n",
       "      <td>az</td>\n",
       "      <td>0.843519</td>\n",
       "      <td>grades_6_8</td>\n",
       "      <td>1</td>\n",
       "      <td>0</td>\n",
       "      <td>health_sports</td>\n",
       "      <td>health_wellness_teamsports</td>\n",
       "      <td>516.85</td>\n",
       "      <td>22</td>\n",
       "    </tr>\n",
       "    <tr>\n",
       "      <td>3</td>\n",
       "      <td>3</td>\n",
       "      <td>3</td>\n",
       "      <td>ky</td>\n",
       "      <td>0.855546</td>\n",
       "      <td>grades_prek_2</td>\n",
       "      <td>4</td>\n",
       "      <td>1</td>\n",
       "      <td>literacy_language_math_science</td>\n",
       "      <td>literacy_mathematics</td>\n",
       "      <td>232.90</td>\n",
       "      <td>4</td>\n",
       "    </tr>\n",
       "    <tr>\n",
       "      <td>4</td>\n",
       "      <td>4</td>\n",
       "      <td>4</td>\n",
       "      <td>tx</td>\n",
       "      <td>0.855546</td>\n",
       "      <td>grades_prek_2</td>\n",
       "      <td>1</td>\n",
       "      <td>1</td>\n",
       "      <td>math_science</td>\n",
       "      <td>mathematics</td>\n",
       "      <td>67.98</td>\n",
       "      <td>4</td>\n",
       "    </tr>\n",
       "    <tr>\n",
       "      <td>...</td>\n",
       "      <td>...</td>\n",
       "      <td>...</td>\n",
       "      <td>...</td>\n",
       "      <td>...</td>\n",
       "      <td>...</td>\n",
       "      <td>...</td>\n",
       "      <td>...</td>\n",
       "      <td>...</td>\n",
       "      <td>...</td>\n",
       "      <td>...</td>\n",
       "      <td>...</td>\n",
       "    </tr>\n",
       "    <tr>\n",
       "      <td>109221</td>\n",
       "      <td>109221</td>\n",
       "      <td>109243</td>\n",
       "      <td>mo</td>\n",
       "      <td>0.841522</td>\n",
       "      <td>grades_prek_2</td>\n",
       "      <td>0</td>\n",
       "      <td>1</td>\n",
       "      <td>literacy_language_math_science</td>\n",
       "      <td>literature_writing_mathematics</td>\n",
       "      <td>59.98</td>\n",
       "      <td>8</td>\n",
       "    </tr>\n",
       "    <tr>\n",
       "      <td>109222</td>\n",
       "      <td>109222</td>\n",
       "      <td>109244</td>\n",
       "      <td>nj</td>\n",
       "      <td>0.843519</td>\n",
       "      <td>grades_prek_2</td>\n",
       "      <td>0</td>\n",
       "      <td>1</td>\n",
       "      <td>literacy_language_math_science</td>\n",
       "      <td>literacy_mathematics</td>\n",
       "      <td>846.32</td>\n",
       "      <td>4</td>\n",
       "    </tr>\n",
       "    <tr>\n",
       "      <td>109223</td>\n",
       "      <td>109223</td>\n",
       "      <td>109245</td>\n",
       "      <td>nj</td>\n",
       "      <td>0.855546</td>\n",
       "      <td>grades_prek_2</td>\n",
       "      <td>3</td>\n",
       "      <td>1</td>\n",
       "      <td>literacy_language_math_science</td>\n",
       "      <td>literacy_mathematics</td>\n",
       "      <td>239.96</td>\n",
       "      <td>4</td>\n",
       "    </tr>\n",
       "    <tr>\n",
       "      <td>109224</td>\n",
       "      <td>109224</td>\n",
       "      <td>109246</td>\n",
       "      <td>ny</td>\n",
       "      <td>0.855546</td>\n",
       "      <td>grades_3_5</td>\n",
       "      <td>0</td>\n",
       "      <td>1</td>\n",
       "      <td>health_sports_specialneeds</td>\n",
       "      <td>health_wellness_specialneeds</td>\n",
       "      <td>73.05</td>\n",
       "      <td>16</td>\n",
       "    </tr>\n",
       "    <tr>\n",
       "      <td>109225</td>\n",
       "      <td>109225</td>\n",
       "      <td>109247</td>\n",
       "      <td>va</td>\n",
       "      <td>0.843519</td>\n",
       "      <td>grades_6_8</td>\n",
       "      <td>0</td>\n",
       "      <td>1</td>\n",
       "      <td>appliedlearning_math_science</td>\n",
       "      <td>college_careerprep_mathematics</td>\n",
       "      <td>109.90</td>\n",
       "      <td>5</td>\n",
       "    </tr>\n",
       "  </tbody>\n",
       "</table>\n",
       "<p>109226 rows × 11 columns</p>\n",
       "</div>"
      ],
      "text/plain": [
       "        Unnamed: 0  Unnamed: 0.1 school_state  teacher_prefix  \\\n",
       "0                0             0           in        0.855546   \n",
       "1                1             1           fl        0.841522   \n",
       "2                2             2           az        0.843519   \n",
       "3                3             3           ky        0.855546   \n",
       "4                4             4           tx        0.855546   \n",
       "...            ...           ...          ...             ...   \n",
       "109221      109221        109243           mo        0.841522   \n",
       "109222      109222        109244           nj        0.843519   \n",
       "109223      109223        109245           nj        0.855546   \n",
       "109224      109224        109246           ny        0.855546   \n",
       "109225      109225        109247           va        0.843519   \n",
       "\n",
       "       project_grade_category  teacher_number_of_previously_posted_projects  \\\n",
       "0               grades_prek_2                                             0   \n",
       "1                  grades_6_8                                             7   \n",
       "2                  grades_6_8                                             1   \n",
       "3               grades_prek_2                                             4   \n",
       "4               grades_prek_2                                             1   \n",
       "...                       ...                                           ...   \n",
       "109221          grades_prek_2                                             0   \n",
       "109222          grades_prek_2                                             0   \n",
       "109223          grades_prek_2                                             3   \n",
       "109224             grades_3_5                                             0   \n",
       "109225             grades_6_8                                             0   \n",
       "\n",
       "        project_is_approved      project_subject_categories  \\\n",
       "0                         0               literacy_language   \n",
       "1                         1    history_civics_health_sports   \n",
       "2                         0                   health_sports   \n",
       "3                         1  literacy_language_math_science   \n",
       "4                         1                    math_science   \n",
       "...                     ...                             ...   \n",
       "109221                    1  literacy_language_math_science   \n",
       "109222                    1  literacy_language_math_science   \n",
       "109223                    1  literacy_language_math_science   \n",
       "109224                    1      health_sports_specialneeds   \n",
       "109225                    1    appliedlearning_math_science   \n",
       "\n",
       "         project_subject_subcategories   price  quantity  \n",
       "0                         esl_literacy  154.60        23  \n",
       "1         civics_government_teamsports  299.00         1  \n",
       "2           health_wellness_teamsports  516.85        22  \n",
       "3                 literacy_mathematics  232.90         4  \n",
       "4                          mathematics   67.98         4  \n",
       "...                                ...     ...       ...  \n",
       "109221  literature_writing_mathematics   59.98         8  \n",
       "109222            literacy_mathematics  846.32         4  \n",
       "109223            literacy_mathematics  239.96         4  \n",
       "109224    health_wellness_specialneeds   73.05        16  \n",
       "109225  college_careerprep_mathematics  109.90         5  \n",
       "\n",
       "[109226 rows x 11 columns]"
      ]
     },
     "execution_count": 46,
     "metadata": {},
     "output_type": "execute_result"
    }
   ],
   "source": [
    "projects_sum = df.groupby('teacher_prefix')['project_is_approved'].agg('sum')\n",
    "projects_count = df.groupby('teacher_prefix')['project_is_approved'].agg('count')\n",
    "projects_avg=projects_sum/projects_count\n",
    "df[\"teacher_prefix\"].replace(list(projects_avg.index),list(projects_avg.values), inplace=True)\n",
    "df"
   ]
  },
  {
   "cell_type": "markdown",
   "metadata": {},
   "source": [
    "Q5."
   ]
  },
  {
   "cell_type": "code",
   "execution_count": 47,
   "metadata": {},
   "outputs": [
    {
     "name": "stdout",
     "output_type": "stream",
     "text": [
      "  state  class\n",
      "0     A      0\n",
      "1     B      1\n",
      "2     C      1\n",
      "3     A      0\n",
      "4     A      1\n",
      "5     B      1\n",
      "6     A      0\n",
      "7     A      1\n",
      "8     C      1\n",
      "9     C      0\n",
      "\n",
      " class    0  1\n",
      "  state      \n",
      "0 A      3  2\n",
      "  B      0  2\n",
      "  C      1  2\n"
     ]
    },
    {
     "data": {
      "text/html": [
       "<div>\n",
       "<style scoped>\n",
       "    .dataframe tbody tr th:only-of-type {\n",
       "        vertical-align: middle;\n",
       "    }\n",
       "\n",
       "    .dataframe tbody tr th {\n",
       "        vertical-align: top;\n",
       "    }\n",
       "\n",
       "    .dataframe thead th {\n",
       "        text-align: right;\n",
       "    }\n",
       "</style>\n",
       "<table border=\"1\" class=\"dataframe\">\n",
       "  <thead>\n",
       "    <tr style=\"text-align: right;\">\n",
       "      <th></th>\n",
       "      <th>state_0</th>\n",
       "      <th>state_1</th>\n",
       "    </tr>\n",
       "  </thead>\n",
       "  <tbody>\n",
       "    <tr>\n",
       "      <td>0</td>\n",
       "      <td>3/5</td>\n",
       "      <td>2/5</td>\n",
       "    </tr>\n",
       "    <tr>\n",
       "      <td>1</td>\n",
       "      <td>0/2</td>\n",
       "      <td>2/2</td>\n",
       "    </tr>\n",
       "    <tr>\n",
       "      <td>2</td>\n",
       "      <td>1/3</td>\n",
       "      <td>2/3</td>\n",
       "    </tr>\n",
       "    <tr>\n",
       "      <td>3</td>\n",
       "      <td>3/5</td>\n",
       "      <td>2/5</td>\n",
       "    </tr>\n",
       "    <tr>\n",
       "      <td>4</td>\n",
       "      <td>3/5</td>\n",
       "      <td>2/5</td>\n",
       "    </tr>\n",
       "    <tr>\n",
       "      <td>5</td>\n",
       "      <td>0/2</td>\n",
       "      <td>2/2</td>\n",
       "    </tr>\n",
       "    <tr>\n",
       "      <td>6</td>\n",
       "      <td>3/5</td>\n",
       "      <td>2/5</td>\n",
       "    </tr>\n",
       "    <tr>\n",
       "      <td>7</td>\n",
       "      <td>3/5</td>\n",
       "      <td>2/5</td>\n",
       "    </tr>\n",
       "    <tr>\n",
       "      <td>8</td>\n",
       "      <td>1/3</td>\n",
       "      <td>2/3</td>\n",
       "    </tr>\n",
       "    <tr>\n",
       "      <td>9</td>\n",
       "      <td>1/3</td>\n",
       "      <td>2/3</td>\n",
       "    </tr>\n",
       "  </tbody>\n",
       "</table>\n",
       "</div>"
      ],
      "text/plain": [
       "  state_0 state_1\n",
       "0     3/5     2/5\n",
       "1     0/2     2/2\n",
       "2     1/3     2/3\n",
       "3     3/5     2/5\n",
       "4     3/5     2/5\n",
       "5     0/2     2/2\n",
       "6     3/5     2/5\n",
       "7     3/5     2/5\n",
       "8     1/3     2/3\n",
       "9     1/3     2/3"
      ]
     },
     "execution_count": 47,
     "metadata": {},
     "output_type": "execute_result"
    }
   ],
   "source": [
    "data={'state':['A','B','C','A','A','B','A','A','C','C'],'class':[0,1,1,0,1,1,0,1,1,0]}\n",
    "td=pd.DataFrame(data)\n",
    "print(td)\n",
    "hint=pd.DataFrame(td.groupby(['class','state']).agg('size'))\n",
    "hint=hint.unstack().T\n",
    "hint=hint.replace(np.nan, 0)\n",
    "hint=pd.DataFrame(hint.astype(int))\n",
    "print(\"\\n\",hint)\n",
    "data={'state_0':['A','B','C','A','A','B','A','A','C','C'], 'state_1':['A','B','C','A','A','B','A','A','C','C']}\n",
    "en_td=pd.DataFrame(data)\n",
    "en_td['state_0']=en_td['state_0'].map({'A':str(hint.loc[0,'A'][0])+\"/\"+str(hint.loc[0,'A'][0]+hint.loc[0,'A'][1]),'B':str(hint.loc[0,'B'][0])+\"/\"+str(hint.loc[0,'B'][0]+hint.loc[0,'B'][1]), 'C':str(hint.loc[0,'C'][0])+\"/\"+str(hint.loc[0,'C'][0]+hint.loc[0,'C'][1])})\n",
    "en_td['state_1']=en_td['state_1'].map({'A':str(hint.loc[0,'A'][1])+\"/\"+str(hint.loc[0,'A'][0]+hint.loc[0,'A'][1]),'B':str(hint.loc[0,'B'][1])+\"/\"+str(hint.loc[0,'B'][0]+hint.loc[0,'B'][1]), 'C':str(hint.loc[0,'C'][1])+\"/\"+str(hint.loc[0,'C'][0]+hint.loc[0,'C'][1])})\n",
    "en_td"
   ]
  },
  {
   "cell_type": "code",
   "execution_count": null,
   "metadata": {},
   "outputs": [],
   "source": []
  }
 ],
 "metadata": {
  "kernelspec": {
   "display_name": "Python 3",
   "language": "python",
   "name": "python3"
  },
  "language_info": {
   "codemirror_mode": {
    "name": "ipython",
    "version": 3
   },
   "file_extension": ".py",
   "mimetype": "text/x-python",
   "name": "python",
   "nbconvert_exporter": "python",
   "pygments_lexer": "ipython3",
   "version": "3.7.4"
  }
 },
 "nbformat": 4,
 "nbformat_minor": 2
}
